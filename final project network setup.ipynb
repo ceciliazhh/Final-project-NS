{
 "cells": [
  {
   "cell_type": "code",
   "execution_count": 1,
   "id": "24645c29",
   "metadata": {},
   "outputs": [],
   "source": [
    "import numpy as np\n",
    "import networkx as nx\n",
    "import matplotlib.pyplot as plt"
   ]
  },
  {
   "cell_type": "code",
   "execution_count": 2,
   "id": "4949a967",
   "metadata": {},
   "outputs": [],
   "source": [
    "#create nodes\n",
    "G = nx.DiGraph()\n",
    "with open(\"Nodes.txt\") as f:\n",
    "    for line in f:   \n",
    "        G.add_node(line.rstrip())     "
   ]
  },
  {
   "cell_type": "code",
   "execution_count": 3,
   "id": "815a734a",
   "metadata": {},
   "outputs": [
    {
     "data": {
      "text/plain": [
       "6072"
      ]
     },
     "execution_count": 3,
     "metadata": {},
     "output_type": "execute_result"
    }
   ],
   "source": [
    "len(list(G.nodes))"
   ]
  },
  {
   "cell_type": "code",
   "execution_count": 4,
   "id": "a5de9640",
   "metadata": {},
   "outputs": [],
   "source": [
    "d_attributes_Latitude = {}\n",
    "with open(\"Latitude.txt\") as f:\n",
    "    lst = 0\n",
    "    for line in f:   \n",
    "        d_attributes_Latitude[lst] = line.rstrip()\n",
    "        lst=lst+1\n",
    "nx.set_node_attributes(G,values=d_attributes_Latitude, name='Latitude')\n",
    "\n",
    "d_attributes_Longitude = {}\n",
    "with open(\"Longitude.txt\") as f:\n",
    "    lst = 0\n",
    "    for line in f:   \n",
    "        d_attributes_Longitude[lst] = line.rstrip()\n",
    "        lst=lst+1\n",
    "nx.set_node_attributes(G,values=d_attributes_Longitude, name='Longitude')\n"
   ]
  },
  {
   "cell_type": "code",
   "execution_count": 5,
   "id": "1312b34a",
   "metadata": {},
   "outputs": [],
   "source": [
    "#create graph derectly from 'routes' because we have much less nodes than expected and it contains some typo in the attributes\n",
    "G_a = nx.DiGraph()\n",
    "with open('Source.txt') as f_s:\n",
    "    lines_s = f_s.readlines()    \n",
    "with open('Destination.txt') as f_d:\n",
    "    lines_d = f_d.readlines()"
   ]
  },
  {
   "cell_type": "code",
   "execution_count": 6,
   "id": "121c8250",
   "metadata": {},
   "outputs": [],
   "source": [
    "source_list=[]\n",
    "destination_list=[]\n",
    "for i in range(0,len(lines_s)-1):\n",
    "    G_a.add_edge(lines_s[i].rstrip(), lines_d[i].rstrip())\n",
    "    source_list.append(lines_s[i].rstrip())\n",
    "    destination_list.append(lines_d[i].rstrip())"
   ]
  },
  {
   "cell_type": "markdown",
   "id": "827c00e9",
   "metadata": {},
   "source": [
    "#### Add weight to the edges"
   ]
  },
  {
   "cell_type": "code",
   "execution_count": 7,
   "id": "e535dcea",
   "metadata": {},
   "outputs": [
    {
     "name": "stdout",
     "output_type": "stream",
     "text": [
      "DiGraph with 3425 nodes and 37595 edges\n"
     ]
    },
    {
     "name": "stderr",
     "output_type": "stream",
     "text": [
      "C:\\Users\\zhangh\\AppData\\Local\\Temp\\ipykernel_17200\\3754153929.py:2: DeprecationWarning: info is deprecated and will be removed in version 3.0.\n",
      "\n",
      "  print(nx.info(G_a))\n"
     ]
    }
   ],
   "source": [
    "# info\n",
    "print(nx.info(G_a))\n",
    "#print(G_a.edges.data())"
   ]
  },
  {
   "cell_type": "code",
   "execution_count": 8,
   "id": "0dc5933b",
   "metadata": {},
   "outputs": [],
   "source": [
    "# create edge attribute weight with default None\n",
    "nx.set_edge_attributes(G_a, values=None, name = 'weight')"
   ]
  },
  {
   "cell_type": "code",
   "execution_count": 9,
   "id": "f8a272c4",
   "metadata": {},
   "outputs": [],
   "source": [
    "#count the occurance of the airport in the routes database\n",
    "sources, sources_counts=np.unique(source_list, return_counts=True)\n",
    "des, des_counts=np.unique(destination_list, return_counts=True)"
   ]
  },
  {
   "cell_type": "code",
   "execution_count": 10,
   "id": "db259706",
   "metadata": {},
   "outputs": [],
   "source": [
    "# create edge attribute source_occurrence with default None\n",
    "nx.set_node_attributes(G_a, values=0, name = 'so')\n",
    "for node in list(sources):\n",
    "    G_a.nodes[node]['so'] = list(sources_counts)[list(sources).index(node)]"
   ]
  },
  {
   "cell_type": "code",
   "execution_count": 11,
   "id": "81bace29",
   "metadata": {},
   "outputs": [],
   "source": [
    "# create edge attribute destination_occurrence with default None\n",
    "nx.set_node_attributes(G_a, values=0, name = 'do')\n",
    "for node in list(des):\n",
    "    G_a.nodes[node]['do'] = list(des_counts)[list(des).index(node)]"
   ]
  },
  {
   "cell_type": "code",
   "execution_count": 12,
   "id": "bbd0a416",
   "metadata": {},
   "outputs": [],
   "source": [
    "def add_weight_to_edges(graph):\n",
    "    for node in graph.nodes:\n",
    "        neighbors = [n for n in G_a.neighbors(node)]\n",
    "        for nb in neighbors:\n",
    "            graph[node][nb]['weight'] = np.mean([graph.nodes[node]['so'],G_a.nodes[node]['do'],graph.nodes[nb]['so'],graph.nodes[nb]['do']])\n",
    "add_weight_to_edges(G_a)"
   ]
  },
  {
   "cell_type": "code",
   "execution_count": 13,
   "id": "580fb33a",
   "metadata": {},
   "outputs": [],
   "source": [
    "#G_a.edges(data=True)"
   ]
  },
  {
   "cell_type": "markdown",
   "id": "ddab629d",
   "metadata": {},
   "source": [
    "## Centrality measures "
   ]
  },
  {
   "cell_type": "markdown",
   "id": "95de6060",
   "metadata": {},
   "source": [
    "Show top five airports and their measure"
   ]
  },
  {
   "cell_type": "code",
   "execution_count": 34,
   "id": "b9e775fa",
   "metadata": {
    "scrolled": true
   },
   "outputs": [
    {
     "name": "stdout",
     "output_type": "stream",
     "text": [
      "('FRA', 0.1393107476635514)\n",
      "('CDG', 0.13672217353198948)\n",
      "('AMS', 0.1341320864991233)\n",
      "('IST', 0.13183279742765272)\n",
      "('ATL', 0.12485380116959065)\n",
      "[('FRA', 0.1393107476635514), ('CDG', 0.13672217353198948), ('AMS', 0.1341320864991233), ('IST', 0.13183279742765272), ('ATL', 0.12485380116959065)]\n"
     ]
    }
   ],
   "source": [
    "#Greedy Algorithm - degree centrality\n",
    "airportset=[]\n",
    "percentage = 5\n",
    "cut = round(percentage/100 * len(G_a.nodes()))\n",
    "G_a_copy = G_a.copy()\n",
    "for i in range(0,cut):\n",
    "    deg_c_del = sorted(nx.degree_centrality(G_a_copy).items(), key=lambda x : x[1], reverse=True)[0]\n",
    "    airportset.append(deg_c_del)\n",
    "    print(deg_c_del)\n",
    "    G_a_copy.remove_node(deg_c_del[0])\n",
    "print(airportset)"
   ]
  },
  {
   "cell_type": "code",
   "execution_count": 38,
   "id": "abbc7f41",
   "metadata": {},
   "outputs": [
    {
     "ename": "KeyboardInterrupt",
     "evalue": "",
     "output_type": "error",
     "traceback": [
      "\u001b[1;31m---------------------------------------------------------------------------\u001b[0m",
      "\u001b[1;31mKeyboardInterrupt\u001b[0m                         Traceback (most recent call last)",
      "Input \u001b[1;32mIn [38]\u001b[0m, in \u001b[0;36m<cell line: 6>\u001b[1;34m()\u001b[0m\n\u001b[0;32m      5\u001b[0m G_a_copy \u001b[38;5;241m=\u001b[39m G_a\u001b[38;5;241m.\u001b[39mcopy()\n\u001b[0;32m      6\u001b[0m \u001b[38;5;28;01mfor\u001b[39;00m i \u001b[38;5;129;01min\u001b[39;00m \u001b[38;5;28mrange\u001b[39m(\u001b[38;5;241m0\u001b[39m,\u001b[38;5;241m5\u001b[39m):\n\u001b[1;32m----> 7\u001b[0m     deg_c_del \u001b[38;5;241m=\u001b[39m \u001b[38;5;28msorted\u001b[39m(\u001b[43mnx\u001b[49m\u001b[38;5;241;43m.\u001b[39;49m\u001b[43mbetweenness_centrality\u001b[49m\u001b[43m(\u001b[49m\u001b[43mG_a_copy\u001b[49m\u001b[43m,\u001b[49m\u001b[43mweight\u001b[49m\u001b[43m \u001b[49m\u001b[38;5;241;43m=\u001b[39;49m\u001b[43m \u001b[49m\u001b[38;5;124;43m'\u001b[39;49m\u001b[38;5;124;43mweights\u001b[39;49m\u001b[38;5;124;43m'\u001b[39;49m\u001b[43m)\u001b[49m\u001b[38;5;241m.\u001b[39mitems(), key\u001b[38;5;241m=\u001b[39m\u001b[38;5;28;01mlambda\u001b[39;00m x : x[\u001b[38;5;241m1\u001b[39m], reverse\u001b[38;5;241m=\u001b[39m\u001b[38;5;28;01mTrue\u001b[39;00m)[\u001b[38;5;241m0\u001b[39m]\n\u001b[0;32m      8\u001b[0m     airportset\u001b[38;5;241m.\u001b[39mappend(deg_c_del)\n\u001b[0;32m      9\u001b[0m     \u001b[38;5;28mprint\u001b[39m(deg_c_del)\n",
      "File \u001b[1;32m<class 'networkx.utils.decorators.argmap'> compilation 4:4\u001b[0m, in \u001b[0;36margmap_betweenness_centrality_1\u001b[1;34m(G, k, normalized, weight, endpoints, seed)\u001b[0m\n\u001b[0;32m      2\u001b[0m \u001b[38;5;28;01mimport\u001b[39;00m \u001b[38;5;21;01mcollections\u001b[39;00m\n\u001b[0;32m      3\u001b[0m \u001b[38;5;28;01mimport\u001b[39;00m \u001b[38;5;21;01mgzip\u001b[39;00m\n\u001b[1;32m----> 4\u001b[0m \u001b[38;5;28;01mimport\u001b[39;00m \u001b[38;5;21;01minspect\u001b[39;00m\n\u001b[0;32m      5\u001b[0m \u001b[38;5;28;01mimport\u001b[39;00m \u001b[38;5;21;01mitertools\u001b[39;00m\n\u001b[0;32m      6\u001b[0m \u001b[38;5;28;01mimport\u001b[39;00m \u001b[38;5;21;01mre\u001b[39;00m\n",
      "File \u001b[1;32m~\\Anaconda3\\lib\\site-packages\\networkx\\algorithms\\centrality\\betweenness.py:132\u001b[0m, in \u001b[0;36mbetweenness_centrality\u001b[1;34m(G, k, normalized, weight, endpoints, seed)\u001b[0m\n\u001b[0;32m    130\u001b[0m     S, P, sigma, _ \u001b[38;5;241m=\u001b[39m _single_source_shortest_path_basic(G, s)\n\u001b[0;32m    131\u001b[0m \u001b[38;5;28;01melse\u001b[39;00m:  \u001b[38;5;66;03m# use Dijkstra's algorithm\u001b[39;00m\n\u001b[1;32m--> 132\u001b[0m     S, P, sigma, _ \u001b[38;5;241m=\u001b[39m \u001b[43m_single_source_dijkstra_path_basic\u001b[49m\u001b[43m(\u001b[49m\u001b[43mG\u001b[49m\u001b[43m,\u001b[49m\u001b[43m \u001b[49m\u001b[43ms\u001b[49m\u001b[43m,\u001b[49m\u001b[43m \u001b[49m\u001b[43mweight\u001b[49m\u001b[43m)\u001b[49m\n\u001b[0;32m    133\u001b[0m \u001b[38;5;66;03m# accumulation\u001b[39;00m\n\u001b[0;32m    134\u001b[0m \u001b[38;5;28;01mif\u001b[39;00m endpoints:\n",
      "File \u001b[1;32m~\\Anaconda3\\lib\\site-packages\\networkx\\algorithms\\centrality\\betweenness.py:304\u001b[0m, in \u001b[0;36m_single_source_dijkstra_path_basic\u001b[1;34m(G, s, weight)\u001b[0m\n\u001b[0;32m    302\u001b[0m S\u001b[38;5;241m.\u001b[39mappend(v)\n\u001b[0;32m    303\u001b[0m D[v] \u001b[38;5;241m=\u001b[39m dist\n\u001b[1;32m--> 304\u001b[0m \u001b[38;5;28;01mfor\u001b[39;00m w, edgedata \u001b[38;5;129;01min\u001b[39;00m G[v]\u001b[38;5;241m.\u001b[39mitems():\n\u001b[0;32m    305\u001b[0m     vw_dist \u001b[38;5;241m=\u001b[39m dist \u001b[38;5;241m+\u001b[39m weight(v, w, edgedata)\n\u001b[0;32m    306\u001b[0m     \u001b[38;5;28;01mif\u001b[39;00m w \u001b[38;5;129;01mnot\u001b[39;00m \u001b[38;5;129;01min\u001b[39;00m D \u001b[38;5;129;01mand\u001b[39;00m (w \u001b[38;5;129;01mnot\u001b[39;00m \u001b[38;5;129;01min\u001b[39;00m seen \u001b[38;5;129;01mor\u001b[39;00m vw_dist \u001b[38;5;241m<\u001b[39m seen[w]):\n",
      "File \u001b[1;32m~\\Anaconda3\\lib\\_collections_abc.py:851\u001b[0m, in \u001b[0;36mItemsView.__iter__\u001b[1;34m(self)\u001b[0m\n\u001b[0;32m    849\u001b[0m \u001b[38;5;28;01mdef\u001b[39;00m \u001b[38;5;21m__iter__\u001b[39m(\u001b[38;5;28mself\u001b[39m):\n\u001b[0;32m    850\u001b[0m     \u001b[38;5;28;01mfor\u001b[39;00m key \u001b[38;5;129;01min\u001b[39;00m \u001b[38;5;28mself\u001b[39m\u001b[38;5;241m.\u001b[39m_mapping:\n\u001b[1;32m--> 851\u001b[0m         \u001b[38;5;28;01myield\u001b[39;00m (key, \u001b[38;5;28;43mself\u001b[39;49m\u001b[38;5;241;43m.\u001b[39;49m\u001b[43m_mapping\u001b[49m\u001b[43m[\u001b[49m\u001b[43mkey\u001b[49m\u001b[43m]\u001b[49m)\n",
      "\u001b[1;31mKeyboardInterrupt\u001b[0m: "
     ]
    }
   ],
   "source": [
    "#Greedy Algorithm -betweenness centrality \n",
    "airportset=[]\n",
    "percentage = 5\n",
    "cut = round(percentage/100 * len(G_a.nodes()))\n",
    "G_a_copy = G_a.copy()\n",
    "for i in range(0,cut):\n",
    "    deg_c_del = sorted(nx.betweenness_centrality(G_a_copy,weight = 'weights').items(), key=lambda x : x[1], reverse=True)[0]\n",
    "    airportset.append(deg_c_del)\n",
    "    print(deg_c_del)\n",
    "    G_a_copy.remove_node(deg_c_del[0])\n",
    "print(airportset)"
   ]
  },
  {
   "cell_type": "code",
   "execution_count": 37,
   "id": "97b17938",
   "metadata": {},
   "outputs": [
    {
     "name": "stdout",
     "output_type": "stream",
     "text": [
      "('FRA', 0.3923891905501794)\n",
      "('CDG', 0.3899213002508765)\n",
      "('LHR', 0.38802303053243253)\n",
      "('DXB', 0.38368677446656746)\n",
      "('AMS', 0.38168859649122805)\n",
      "[('FRA', 0.3923891905501794), ('CDG', 0.3899213002508765), ('LHR', 0.38802303053243253), ('DXB', 0.38368677446656746), ('AMS', 0.38168859649122805)]\n"
     ]
    }
   ],
   "source": [
    "#Greedy Algorithm -closeness centrality \n",
    "airportset=[]\n",
    "percentage = 5\n",
    "cut = round(percentage/100 * len(G_a.nodes()))\n",
    "G_a_copy = G_a.copy()\n",
    "for i in range(0,cut):\n",
    "    deg_c_del = sorted(nx.closeness_centrality(G_a_copy).items(), key=lambda x : x[1], reverse=True)[0]\n",
    "    airportset.append(deg_c_del)\n",
    "    print(deg_c_del)\n",
    "    G_a_copy.remove_node(deg_c_del[0])\n",
    "print(airportset)"
   ]
  },
  {
   "cell_type": "code",
   "execution_count": 39,
   "id": "f333b634",
   "metadata": {},
   "outputs": [
    {
     "name": "stdout",
     "output_type": "stream",
     "text": [
      "('AMS', 0.1659089004045491)\n",
      "('FRA', 0.16950078557936288)\n",
      "('CDG', 0.16610509242308494)\n",
      "('MUC', 0.15800542998869838)\n",
      "('LHR', 0.14883351400072806)\n",
      "[('AMS', 0.1659089004045491), ('FRA', 0.16950078557936288), ('CDG', 0.16610509242308494), ('MUC', 0.15800542998869838), ('LHR', 0.14883351400072806)]\n"
     ]
    }
   ],
   "source": [
    "#Greedy Algorithm -eigenvector centrality \n",
    "airportset=[]\n",
    "percentage = 5\n",
    "cut = round(percentage/100 * len(G_a.nodes()))\n",
    "G_a_copy = G_a.copy()\n",
    "for i in range(0,cut):\n",
    "    deg_c_del = sorted(nx.eigenvector_centrality(G_a_copy,weight = 'weights').items(), key=lambda x : x[1], reverse=True)[0]\n",
    "    airportset.append(deg_c_del)\n",
    "    print(deg_c_del)\n",
    "    G_a_copy.remove_node(deg_c_del[0])\n",
    "print(airportset)"
   ]
  },
  {
   "cell_type": "code",
   "execution_count": 46,
   "id": "4ec86a39",
   "metadata": {},
   "outputs": [
    {
     "data": {
      "text/plain": [
       "[('FRA', 477), ('CDG', 470), ('AMS', 463), ('IST', 457), ('ATL', 433)]"
      ]
     },
     "execution_count": 46,
     "metadata": {},
     "output_type": "execute_result"
    }
   ],
   "source": [
    "# how many neighbours a node has (top 5)\n",
    "sorted(nx.degree(G_a), key = lambda x: x[1], reverse=True)[:5]"
   ]
  },
  {
   "cell_type": "code",
   "execution_count": 47,
   "id": "2cee1c66",
   "metadata": {},
   "outputs": [
    {
     "data": {
      "text/plain": [
       "[('CDG', 468), ('AMS', 461), ('IST', 455), ('ATL', 431), ('PEK', 410)]"
      ]
     },
     "execution_count": 47,
     "metadata": {},
     "output_type": "execute_result"
    }
   ],
   "source": [
    "# Remove top node and recalculate\n",
    "G_a_copy = G_a.copy()\n",
    "G_a_copy.remove_node('FRA')\n",
    "# recalculate measure\n",
    "sorted(nx.degree(G_a_copy), key = lambda x: x[1], reverse=True)[:5]"
   ]
  },
  {
   "cell_type": "markdown",
   "id": "c7955d40",
   "metadata": {},
   "source": [
    "degree centrality"
   ]
  },
  {
   "cell_type": "code",
   "execution_count": 48,
   "id": "e8a0c9ef",
   "metadata": {},
   "outputs": [
    {
     "data": {
      "text/plain": [
       "[('FRA', 0.1393107476635514),\n",
       " ('CDG', 0.1372663551401869),\n",
       " ('AMS', 0.13522196261682243),\n",
       " ('IST', 0.13346962616822428),\n",
       " ('ATL', 0.12646028037383178)]"
      ]
     },
     "execution_count": 48,
     "metadata": {},
     "output_type": "execute_result"
    }
   ],
   "source": [
    "# degree centrality\n",
    "sorted(nx.degree_centrality(G_a).items(), key=lambda x : x[1], reverse=True)[:5]"
   ]
  },
  {
   "cell_type": "code",
   "execution_count": 49,
   "id": "bf25c52c",
   "metadata": {},
   "outputs": [
    {
     "data": {
      "text/plain": [
       "[('CDG', 0.13672217353198948),\n",
       " ('AMS', 0.13467718375693835),\n",
       " ('IST', 0.1329243353783231),\n",
       " ('ATL', 0.1259129418638621),\n",
       " ('PEK', 0.11977797253870873)]"
      ]
     },
     "execution_count": 49,
     "metadata": {},
     "output_type": "execute_result"
    }
   ],
   "source": [
    "# Remove top node and recalculate\n",
    "G_a_copy = G_a.copy()\n",
    "G_a_copy.remove_node('FRA')\n",
    "# recalculate measure\n",
    "sorted(nx.degree_centrality(G_a_copy).items(), key=lambda x : x[1], reverse=True)[:5]"
   ]
  },
  {
   "cell_type": "markdown",
   "id": "a16949bf",
   "metadata": {},
   "source": [
    "betweenness centrality"
   ]
  },
  {
   "cell_type": "code",
   "execution_count": 50,
   "id": "22b85052",
   "metadata": {},
   "outputs": [
    {
     "data": {
      "text/plain": [
       "[('ANC', 0.07020362618341769),\n",
       " ('LAX', 0.06616375813998217),\n",
       " ('CDG', 0.0617033258692853),\n",
       " ('DXB', 0.05935046022271049),\n",
       " ('FRA', 0.050999877320783545)]"
      ]
     },
     "execution_count": 50,
     "metadata": {},
     "output_type": "execute_result"
    }
   ],
   "source": [
    "# betweenness centrality\n",
    "sorted(nx.betweenness_centrality(G_a).items(), key=lambda x : x[1], reverse=True)[:5]"
   ]
  },
  {
   "cell_type": "code",
   "execution_count": 52,
   "id": "e3aa6a8a",
   "metadata": {},
   "outputs": [
    {
     "data": {
      "text/plain": [
       "[('SEA', 0.08917385564726112),\n",
       " ('FAI', 0.06321638315064108),\n",
       " ('CDG', 0.0626674767506962),\n",
       " ('DXB', 0.06195617188690722),\n",
       " ('FRA', 0.052256257092339504)]"
      ]
     },
     "execution_count": 52,
     "metadata": {},
     "output_type": "execute_result"
    }
   ],
   "source": [
    "# Remove top node and recalculate\n",
    "G_a_copy = G_a.copy()\n",
    "G_a_copy.remove_node('ANC')\n",
    "# recalculate measure\n",
    "sorted(nx.betweenness_centrality(G_a_copy).items(), key=lambda x : x[1], reverse=True)[:5]"
   ]
  },
  {
   "cell_type": "markdown",
   "id": "223f4786",
   "metadata": {},
   "source": [
    "closeness centrality"
   ]
  },
  {
   "cell_type": "code",
   "execution_count": 53,
   "id": "f192376f",
   "metadata": {},
   "outputs": [
    {
     "data": {
      "text/plain": [
       "[('FRA', 0.3923891905501794),\n",
       " ('CDG', 0.38999292068422414),\n",
       " ('LHR', 0.3883056267102629),\n",
       " ('DXB', 0.38408393703749344),\n",
       " ('AMS', 0.38293239386833117)]"
      ]
     },
     "execution_count": 53,
     "metadata": {},
     "output_type": "execute_result"
    }
   ],
   "source": [
    "# closeness centrality\n",
    "sorted(nx.closeness_centrality(G_a).items(), key=lambda x : x[1], reverse=True)[:5]"
   ]
  },
  {
   "cell_type": "code",
   "execution_count": 54,
   "id": "d850a3fb",
   "metadata": {},
   "outputs": [
    {
     "data": {
      "text/plain": [
       "[('CDG', 0.3899213002508765),\n",
       " ('LHR', 0.38823411885580195),\n",
       " ('DXB', 0.3840127183731593),\n",
       " ('AMS', 0.3828612559492518),\n",
       " ('LAX', 0.37875527100239165)]"
      ]
     },
     "execution_count": 54,
     "metadata": {},
     "output_type": "execute_result"
    }
   ],
   "source": [
    "# Remove top node and recalculate\n",
    "G_a_copy = G_a.copy()\n",
    "G_a_copy.remove_node('FRA')\n",
    "# recalculate measure\n",
    "sorted(nx.closeness_centrality(G_a_copy).items(), key=lambda x : x[1], reverse=True)[:5]"
   ]
  },
  {
   "cell_type": "markdown",
   "id": "ccf863e9",
   "metadata": {},
   "source": [
    "eigenvector centrality"
   ]
  },
  {
   "cell_type": "code",
   "execution_count": 55,
   "id": "2ff09c47",
   "metadata": {},
   "outputs": [
    {
     "data": {
      "text/plain": [
       "[('AMS', 0.1659089004045491),\n",
       " ('FRA', 0.16574776796973323),\n",
       " ('CDG', 0.15922420258870176),\n",
       " ('MUC', 0.14895747523518146),\n",
       " ('LHR', 0.1370502931492826)]"
      ]
     },
     "execution_count": 55,
     "metadata": {},
     "output_type": "execute_result"
    }
   ],
   "source": [
    "# eigenvector centrality\n",
    "sorted(nx.eigenvector_centrality(G_a).items(), key=lambda x : x[1], reverse=True)[:5]"
   ]
  },
  {
   "cell_type": "code",
   "execution_count": 56,
   "id": "4845ef2b",
   "metadata": {},
   "outputs": [
    {
     "data": {
      "text/plain": [
       "[('FRA', 0.16950078557936288),\n",
       " ('CDG', 0.16267994840477631),\n",
       " ('MUC', 0.15184194208932636),\n",
       " ('LHR', 0.14025782786689042),\n",
       " ('FCO', 0.1387202581527316)]"
      ]
     },
     "execution_count": 56,
     "metadata": {},
     "output_type": "execute_result"
    }
   ],
   "source": [
    "# Remove top node and recalculate\n",
    "G_a_copy = G_a.copy()\n",
    "G_a_copy.remove_node('AMS')\n",
    "# recalculate measure\n",
    "sorted(nx.eigenvector_centrality(G_a_copy).items(), key=lambda x : x[1], reverse=True)[:5]"
   ]
  }
 ],
 "metadata": {
  "kernelspec": {
   "display_name": "Python 3 (ipykernel)",
   "language": "python",
   "name": "python3"
  },
  "language_info": {
   "codemirror_mode": {
    "name": "ipython",
    "version": 3
   },
   "file_extension": ".py",
   "mimetype": "text/x-python",
   "name": "python",
   "nbconvert_exporter": "python",
   "pygments_lexer": "ipython3",
   "version": "3.9.12"
  },
  "vscode": {
   "interpreter": {
    "hash": "e8456687b0139c9c82a6837b1259eb5c5ccba005a583eb7c235d1de000e409c0"
   }
  }
 },
 "nbformat": 4,
 "nbformat_minor": 5
}

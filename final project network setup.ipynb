{
 "cells": [
  {
   "cell_type": "code",
   "execution_count": 33,
   "id": "24645c29",
   "metadata": {},
   "outputs": [],
   "source": [
    "import numpy as np\n",
    "import networkx as nx\n",
    "import matplotlib.pyplot as plt"
   ]
  },
  {
   "cell_type": "code",
   "execution_count": 34,
   "id": "4949a967",
   "metadata": {},
   "outputs": [],
   "source": [
    "#create nodes\n",
    "G = nx.DiGraph()\n",
    "with open(\"Nodes.txt\") as f:\n",
    "    for line in f:   \n",
    "        G.add_node(line.rstrip())     "
   ]
  },
  {
   "cell_type": "code",
   "execution_count": 35,
   "id": "815a734a",
   "metadata": {},
   "outputs": [
    {
     "data": {
      "text/plain": [
       "6072"
      ]
     },
     "execution_count": 35,
     "metadata": {},
     "output_type": "execute_result"
    }
   ],
   "source": [
    "len(list(G.nodes))"
   ]
  },
  {
   "cell_type": "code",
   "execution_count": 36,
   "id": "a5de9640",
   "metadata": {},
   "outputs": [],
   "source": [
    "d_attributes_Latitude = {}\n",
    "with open(\"Latitude.txt\") as f:\n",
    "    lst = 0\n",
    "    for line in f:   \n",
    "        d_attributes_Latitude[lst] = line.rstrip()\n",
    "        lst=lst+1\n",
    "nx.set_node_attributes(G,values=d_attributes_Latitude, name='Latitude')\n",
    "\n",
    "d_attributes_Longitude = {}\n",
    "with open(\"Longitude.txt\") as f:\n",
    "    lst = 0\n",
    "    for line in f:   \n",
    "        d_attributes_Longitude[lst] = line.rstrip()\n",
    "        lst=lst+1\n",
    "nx.set_node_attributes(G,values=d_attributes_Longitude, name='Longitude')\n"
   ]
  },
  {
   "cell_type": "code",
   "execution_count": 37,
   "id": "1312b34a",
   "metadata": {},
   "outputs": [],
   "source": [
    "#create graph derectly from 'routes' because we have much less nodes than expected and it contains some typo in the attributes\n",
    "G_a = nx.DiGraph()\n",
    "with open('Source.txt') as f_s:\n",
    "    lines_s = f_s.readlines()    \n",
    "with open('Destination.txt') as f_d:\n",
    "    lines_d = f_d.readlines()"
   ]
  },
  {
   "cell_type": "code",
   "execution_count": 38,
   "id": "121c8250",
   "metadata": {},
   "outputs": [],
   "source": [
    "source_list=[]\n",
    "destination_list=[]\n",
    "for i in range(0,len(lines_s)-1):\n",
    "    G_a.add_edge(lines_s[i].rstrip(), lines_d[i].rstrip())\n",
    "    source_list.append(lines_s[i].rstrip())\n",
    "    destination_list.append(lines_d[i].rstrip())"
   ]
  },
  {
   "cell_type": "markdown",
   "id": "827c00e9",
   "metadata": {},
   "source": [
    "#### Add weight to the edges"
   ]
  },
  {
   "cell_type": "code",
   "execution_count": 39,
   "id": "e535dcea",
   "metadata": {},
   "outputs": [
    {
     "name": "stdout",
     "output_type": "stream",
     "text": [
      "DiGraph with 3425 nodes and 37595 edges\n"
     ]
    },
    {
     "name": "stderr",
     "output_type": "stream",
     "text": [
      "C:\\Users\\tijan\\AppData\\Local\\Temp\\ipykernel_33380\\3754153929.py:2: DeprecationWarning: info is deprecated and will be removed in version 3.0.\n",
      "\n",
      "  print(nx.info(G_a))\n"
     ]
    }
   ],
   "source": [
    "# info\n",
    "print(nx.info(G_a))\n",
    "#print(G_a.edges.data())"
   ]
  },
  {
   "cell_type": "code",
   "execution_count": 40,
   "id": "0dc5933b",
   "metadata": {},
   "outputs": [],
   "source": [
    "# create edge attribute weight with default None\n",
    "nx.set_edge_attributes(G_a, values=None, name = 'weight')"
   ]
  },
  {
   "cell_type": "code",
   "execution_count": 41,
   "id": "f8a272c4",
   "metadata": {},
   "outputs": [],
   "source": [
    "#count the occurance of the airport in the routes database\n",
    "sources, sources_counts=np.unique(source_list, return_counts=True)\n",
    "des, des_counts=np.unique(destination_list, return_counts=True)"
   ]
  },
  {
   "cell_type": "code",
   "execution_count": 42,
   "id": "db259706",
   "metadata": {},
   "outputs": [],
   "source": [
    "# create edge attribute source_occurrence with default None\n",
    "nx.set_node_attributes(G_a, values=0, name = 'so')\n",
    "for node in list(sources):\n",
    "    G_a.nodes[node]['so'] = list(sources_counts)[list(sources).index(node)]"
   ]
  },
  {
   "cell_type": "code",
   "execution_count": 43,
   "id": "81bace29",
   "metadata": {},
   "outputs": [],
   "source": [
    "# create edge attribute destination_occurrence with default None\n",
    "nx.set_node_attributes(G_a, values=0, name = 'do')\n",
    "for node in list(des):\n",
    "    G_a.nodes[node]['do'] = list(des_counts)[list(des).index(node)]"
   ]
  },
  {
   "cell_type": "code",
   "execution_count": 44,
   "id": "bbd0a416",
   "metadata": {},
   "outputs": [],
   "source": [
    "def add_weight_to_edges(graph):\n",
    "    for node in graph.nodes:\n",
    "        neighbors = [n for n in G_a.neighbors(node)]\n",
    "        for nb in neighbors:\n",
    "            graph[node][nb]['weight'] = np.mean([graph.nodes[node]['so'],G_a.nodes[node]['do'],graph.nodes[nb]['so'],graph.nodes[nb]['do']])\n",
    "add_weight_to_edges(G_a)"
   ]
  },
  {
   "cell_type": "code",
   "execution_count": 45,
   "id": "580fb33a",
   "metadata": {},
   "outputs": [],
   "source": [
    "#G_a.edges(data=True)"
   ]
  },
  {
   "cell_type": "markdown",
   "id": "ddab629d",
   "metadata": {},
   "source": [
    "## Centrality measures "
   ]
  },
  {
   "cell_type": "markdown",
   "id": "95de6060",
   "metadata": {},
   "source": [
    "Show top five airports and their measure"
   ]
  },
  {
   "cell_type": "code",
   "execution_count": 46,
   "id": "4ec86a39",
   "metadata": {},
   "outputs": [
    {
     "data": {
      "text/plain": [
       "[('FRA', 477), ('CDG', 470), ('AMS', 463), ('IST', 457), ('ATL', 433)]"
      ]
     },
     "execution_count": 46,
     "metadata": {},
     "output_type": "execute_result"
    }
   ],
   "source": [
    "# how many neighbours a node has (top 5)\n",
    "sorted(nx.degree(G_a), key = lambda x: x[1], reverse=True)[:5]"
   ]
  },
  {
   "cell_type": "code",
   "execution_count": 47,
   "id": "2cee1c66",
   "metadata": {},
   "outputs": [
    {
     "data": {
      "text/plain": [
       "[('CDG', 468), ('AMS', 461), ('IST', 455), ('ATL', 431), ('PEK', 410)]"
      ]
     },
     "execution_count": 47,
     "metadata": {},
     "output_type": "execute_result"
    }
   ],
   "source": [
    "# Remove top node and recalculate\n",
    "G_a_copy = G_a.copy()\n",
    "G_a_copy.remove_node('FRA')\n",
    "# recalculate measure\n",
    "sorted(nx.degree(G_a_copy), key = lambda x: x[1], reverse=True)[:5]"
   ]
  },
  {
   "cell_type": "markdown",
   "id": "c7955d40",
   "metadata": {},
   "source": [
    "degree centrality"
   ]
  },
  {
   "cell_type": "code",
   "execution_count": 48,
   "id": "e8a0c9ef",
   "metadata": {},
   "outputs": [
    {
     "data": {
      "text/plain": [
       "[('FRA', 0.1393107476635514),\n",
       " ('CDG', 0.1372663551401869),\n",
       " ('AMS', 0.13522196261682243),\n",
       " ('IST', 0.13346962616822428),\n",
       " ('ATL', 0.12646028037383178)]"
      ]
     },
     "execution_count": 48,
     "metadata": {},
     "output_type": "execute_result"
    }
   ],
   "source": [
    "# degree centrality\n",
    "sorted(nx.degree_centrality(G_a).items(), key=lambda x : x[1], reverse=True)[:5]"
   ]
  },
  {
   "cell_type": "code",
   "execution_count": 49,
   "id": "bf25c52c",
   "metadata": {},
   "outputs": [
    {
     "data": {
      "text/plain": [
       "[('CDG', 0.13672217353198948),\n",
       " ('AMS', 0.13467718375693835),\n",
       " ('IST', 0.1329243353783231),\n",
       " ('ATL', 0.1259129418638621),\n",
       " ('PEK', 0.11977797253870873)]"
      ]
     },
     "execution_count": 49,
     "metadata": {},
     "output_type": "execute_result"
    }
   ],
   "source": [
    "# Remove top node and recalculate\n",
    "G_a_copy = G_a.copy()\n",
    "G_a_copy.remove_node('FRA')\n",
    "# recalculate measure\n",
    "sorted(nx.degree_centrality(G_a_copy).items(), key=lambda x : x[1], reverse=True)[:5]"
   ]
  },
  {
   "cell_type": "markdown",
   "id": "a16949bf",
   "metadata": {},
   "source": [
    "betweenness centrality"
   ]
  },
  {
   "cell_type": "code",
   "execution_count": 50,
   "id": "22b85052",
   "metadata": {},
   "outputs": [
    {
     "data": {
      "text/plain": [
       "[('ANC', 0.07020362618341769),\n",
       " ('LAX', 0.06616375813998217),\n",
       " ('CDG', 0.0617033258692853),\n",
       " ('DXB', 0.05935046022271049),\n",
       " ('FRA', 0.050999877320783545)]"
      ]
     },
     "execution_count": 50,
     "metadata": {},
     "output_type": "execute_result"
    }
   ],
   "source": [
    "# betweenness centrality\n",
    "sorted(nx.betweenness_centrality(G_a).items(), key=lambda x : x[1], reverse=True)[:5]"
   ]
  },
  {
   "cell_type": "code",
   "execution_count": 52,
   "id": "e3aa6a8a",
   "metadata": {},
   "outputs": [
    {
     "data": {
      "text/plain": [
       "[('SEA', 0.08917385564726112),\n",
       " ('FAI', 0.06321638315064108),\n",
       " ('CDG', 0.0626674767506962),\n",
       " ('DXB', 0.06195617188690722),\n",
       " ('FRA', 0.052256257092339504)]"
      ]
     },
     "execution_count": 52,
     "metadata": {},
     "output_type": "execute_result"
    }
   ],
   "source": [
    "# Remove top node and recalculate\n",
    "G_a_copy = G_a.copy()\n",
    "G_a_copy.remove_node('ANC')\n",
    "# recalculate measure\n",
    "sorted(nx.betweenness_centrality(G_a_copy).items(), key=lambda x : x[1], reverse=True)[:5]"
   ]
  },
  {
   "cell_type": "markdown",
   "id": "223f4786",
   "metadata": {},
   "source": [
    "closeness centrality"
   ]
  },
  {
   "cell_type": "code",
   "execution_count": 53,
   "id": "f192376f",
   "metadata": {},
   "outputs": [
    {
     "data": {
      "text/plain": [
       "[('FRA', 0.3923891905501794),\n",
       " ('CDG', 0.38999292068422414),\n",
       " ('LHR', 0.3883056267102629),\n",
       " ('DXB', 0.38408393703749344),\n",
       " ('AMS', 0.38293239386833117)]"
      ]
     },
     "execution_count": 53,
     "metadata": {},
     "output_type": "execute_result"
    }
   ],
   "source": [
    "# closeness centrality\n",
    "sorted(nx.closeness_centrality(G_a).items(), key=lambda x : x[1], reverse=True)[:5]"
   ]
  },
  {
   "cell_type": "code",
   "execution_count": 54,
   "id": "d850a3fb",
   "metadata": {},
   "outputs": [
    {
     "data": {
      "text/plain": [
       "[('CDG', 0.3899213002508765),\n",
       " ('LHR', 0.38823411885580195),\n",
       " ('DXB', 0.3840127183731593),\n",
       " ('AMS', 0.3828612559492518),\n",
       " ('LAX', 0.37875527100239165)]"
      ]
     },
     "execution_count": 54,
     "metadata": {},
     "output_type": "execute_result"
    }
   ],
   "source": [
    "# Remove top node and recalculate\n",
    "G_a_copy = G_a.copy()\n",
    "G_a_copy.remove_node('FRA')\n",
    "# recalculate measure\n",
    "sorted(nx.closeness_centrality(G_a_copy).items(), key=lambda x : x[1], reverse=True)[:5]"
   ]
  },
  {
   "cell_type": "markdown",
   "id": "ccf863e9",
   "metadata": {},
   "source": [
    "eigenvector centrality"
   ]
  },
  {
   "cell_type": "code",
   "execution_count": 55,
   "id": "2ff09c47",
   "metadata": {},
   "outputs": [
    {
     "data": {
      "text/plain": [
       "[('AMS', 0.1659089004045491),\n",
       " ('FRA', 0.16574776796973323),\n",
       " ('CDG', 0.15922420258870176),\n",
       " ('MUC', 0.14895747523518146),\n",
       " ('LHR', 0.1370502931492826)]"
      ]
     },
     "execution_count": 55,
     "metadata": {},
     "output_type": "execute_result"
    }
   ],
   "source": [
    "# eigenvector centrality\n",
    "sorted(nx.eigenvector_centrality(G_a).items(), key=lambda x : x[1], reverse=True)[:5]"
   ]
  },
  {
   "cell_type": "code",
   "execution_count": 56,
   "id": "4845ef2b",
   "metadata": {},
   "outputs": [
    {
     "data": {
      "text/plain": [
       "[('FRA', 0.16950078557936288),\n",
       " ('CDG', 0.16267994840477631),\n",
       " ('MUC', 0.15184194208932636),\n",
       " ('LHR', 0.14025782786689042),\n",
       " ('FCO', 0.1387202581527316)]"
      ]
     },
     "execution_count": 56,
     "metadata": {},
     "output_type": "execute_result"
    }
   ],
   "source": [
    "# Remove top node and recalculate\n",
    "G_a_copy = G_a.copy()\n",
    "G_a_copy.remove_node('AMS')\n",
    "# recalculate measure\n",
    "sorted(nx.eigenvector_centrality(G_a_copy).items(), key=lambda x : x[1], reverse=True)[:5]"
   ]
  }
 ],
 "metadata": {
  "kernelspec": {
   "display_name": "Python 3 (ipykernel)",
   "language": "python",
   "name": "python3"
  },
  "language_info": {
   "codemirror_mode": {
    "name": "ipython",
    "version": 3
   },
   "file_extension": ".py",
   "mimetype": "text/x-python",
   "name": "python",
   "nbconvert_exporter": "python",
   "pygments_lexer": "ipython3",
   "version": "3.9.7"
  },
  "vscode": {
   "interpreter": {
    "hash": "e8456687b0139c9c82a6837b1259eb5c5ccba005a583eb7c235d1de000e409c0"
   }
  }
 },
 "nbformat": 4,
 "nbformat_minor": 5
}

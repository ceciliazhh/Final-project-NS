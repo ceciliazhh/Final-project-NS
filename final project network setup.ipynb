{
 "cells": [
  {
   "cell_type": "code",
   "execution_count": 71,
   "id": "24645c29",
   "metadata": {},
   "outputs": [],
   "source": [
    "import numpy as np\n",
    "import networkx as nx\n",
    "import matplotlib.pyplot as plt"
   ]
  },
  {
   "cell_type": "code",
   "execution_count": 72,
   "id": "4949a967",
   "metadata": {},
   "outputs": [],
   "source": [
    "#create nodes\n",
    "G = nx.DiGraph()\n",
    "with open(\"Nodes.txt\") as f:\n",
    "    for line in f:   \n",
    "        G.add_node(line.rstrip())     "
   ]
  },
  {
   "cell_type": "code",
   "execution_count": 73,
   "id": "815a734a",
   "metadata": {},
   "outputs": [
    {
     "data": {
      "text/plain": [
       "6072"
      ]
     },
     "execution_count": 73,
     "metadata": {},
     "output_type": "execute_result"
    }
   ],
   "source": [
    "len(list(G.nodes))"
   ]
  },
  {
   "cell_type": "code",
   "execution_count": 76,
   "id": "a5de9640",
   "metadata": {},
   "outputs": [],
   "source": [
    "d_attributes_Latitude = {}\n",
    "with open(\"Latitude.txt\") as f:\n",
    "    lst = 0\n",
    "    for line in f:   \n",
    "        d_attributes_Latitude[lst] = line.rstrip()\n",
    "        lst=lst+1\n",
    "nx.set_node_attributes(G,values=d_attributes_Latitude, name='Latitude')\n",
    "\n",
    "d_attributes_Longitude = {}\n",
    "with open(\"Longitude.txt\") as f:\n",
    "    lst = 0\n",
    "    for line in f:   \n",
    "        d_attributes_Longitude[lst] = line.rstrip()\n",
    "        lst=lst+1\n",
    "nx.set_node_attributes(G,values=d_attributes_Longitude, name='Longitude')\n"
   ]
  },
  {
   "cell_type": "code",
   "execution_count": 64,
   "id": "1312b34a",
   "metadata": {},
   "outputs": [],
   "source": [
    "#create graph derectly from 'routes' because we have much less nodes than expected and it contains some typo in the attributes\n",
    "G_a = nx.DiGraph()\n",
    "with open('Source.txt') as f_s:\n",
    "    lines_s = f_s.readlines()    \n",
    "with open('Destination.txt') as f_d:\n",
    "    lines_d = f_d.readlines()"
   ]
  },
  {
   "cell_type": "code",
   "execution_count": 65,
   "id": "121c8250",
   "metadata": {},
   "outputs": [],
   "source": [
    "for i in range(0,len(lines_s)-1):\n",
    "    G_a.add_edge(lines_s[i].rstrip(), lines_d[i].rstrip())"
   ]
  },
  {
   "cell_type": "code",
   "execution_count": 66,
   "id": "f02019bd",
   "metadata": {},
   "outputs": [
    {
     "data": {
      "text/plain": [
       "37595"
      ]
     },
     "execution_count": 66,
     "metadata": {},
     "output_type": "execute_result"
    }
   ],
   "source": [
    "G_a.number_of_edges()"
   ]
  },
  {
   "cell_type": "code",
   "execution_count": 67,
   "id": "cd72ad2a",
   "metadata": {},
   "outputs": [
    {
     "data": {
      "text/plain": [
       "3425"
      ]
     },
     "execution_count": 67,
     "metadata": {},
     "output_type": "execute_result"
    }
   ],
   "source": [
    "len(list(G_a.nodes))"
   ]
  },
  {
   "cell_type": "code",
   "execution_count": null,
   "id": "ce7e7c06",
   "metadata": {},
   "outputs": [],
   "source": []
  }
 ],
 "metadata": {
  "kernelspec": {
   "display_name": "Python 3 (ipykernel)",
   "language": "python",
   "name": "python3"
  },
  "language_info": {
   "codemirror_mode": {
    "name": "ipython",
    "version": 3
   },
   "file_extension": ".py",
   "mimetype": "text/x-python",
   "name": "python",
   "nbconvert_exporter": "python",
   "pygments_lexer": "ipython3",
   "version": "3.9.7"
  }
 },
 "nbformat": 4,
 "nbformat_minor": 5
}
